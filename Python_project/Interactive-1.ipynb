{
 "cells": [
  {
   "cell_type": "markdown",
   "metadata": {},
   "source": [
    "Connected to Python 3.12.2"
   ]
  },
  {
   "cell_type": "code",
   "execution_count": 1,
   "id": "f0bc8da7-f869-4025-bb42-438411670c2d",
   "metadata": {},
   "outputs": [
    {
     "name": "stdout",
     "output_type": "stream",
     "text": [
      "Would you like to input expenses?\n"
     ]
    }
   ],
   "source": [
    "import os\n",
    "\n",
    "#1.) Add expenses\n",
    "#2.) View expenses\n",
    "#3.) Categorize expenses\n",
    "#4.) Visualize Data\n",
    "#5.) Export data\n",
    "#The goal is to allow users to track expenses and categorize and visualize spending habits.\n",
    "\n",
    "def user_expense():\n",
    "    print('Please input expenses')\n",
    "    input(int())\n",
    "\n",
    "print('Would you like to input expenses?')\n",
    "user_input = input(str())\n",
    "if  user_input == [f'yes,y']:\n",
    "    user_expense()"
   ]
  }
 ],
 "metadata": {
  "kernelspec": {
   "display_name": "Python 3",
   "language": "python",
   "name": "python3"
  },
  "language_info": {
   "name": "python",
   "version": "3.12.2"
  }
 },
 "nbformat": 4,
 "nbformat_minor": 2
}
